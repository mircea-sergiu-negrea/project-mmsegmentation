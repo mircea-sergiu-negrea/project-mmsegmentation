{
 "cells": [
  {
   "cell_type": "code",
   "execution_count": null,
   "id": "0d22f5ec",
   "metadata": {},
   "outputs": [],
   "source": [
    "import os # Ensure the script runs in the correct directory (not in demo)\n",
    "os.chdir('/home/negreami/project/mmsegmentation')\n",
    "\n",
    "# Download checkpoint and remember its path\n",
    "checkpoint_url = \"https://download.openmmlab.com/mmsegmentation/v0.5/deeplabv3/deeplabv3_r50-d8_512x1024_40k_cityscapes/deeplabv3_r50-d8_512x1024_40k_cityscapes_20200605_022449-acadc2f8.pth\"\n",
    "checkpoint_dir = \"checkpoints\"\n",
    "checkpoint_file = os.path.join(checkpoint_dir, os.path.basename(checkpoint_url))\n",
    "\n",
    "# Check if the checkpoint file already exists. If not, download it.\n",
    "if not os.path.exists(checkpoint_file):\n",
    "    os.makedirs(checkpoint_dir, exist_ok=True)\n",
    "    os.system(f\"wget {checkpoint_url} -P {checkpoint_dir}\")"
   ]
  },
  {
   "cell_type": "code",
   "execution_count": null,
   "id": "c47d9ffc",
   "metadata": {},
   "outputs": [],
   "source": [
    "import mmcv\n",
    "from mmseg.apis import (\n",
    "    init_segmentor,       # function that loads a model from a config file and a checkpoint file\n",
    "    inference_segmentor,  # function that takes an image and a model and returns the segmentation results\n",
    "    show_result_pyplot,   # visualization\n",
    ")"
   ]
  },
  {
   "cell_type": "code",
   "execution_count": null,
   "id": "926e8f43",
   "metadata": {},
   "outputs": [],
   "source": [
    "# the config file sits in the configs directory of the mmsegmentation repo\n",
    "config_file = 'configs/deeplabv3/deeplabv3_r50-d8_512x1024_40k_cityscapes.py'\n",
    "\n",
    "# the checkpoint is downloaded from the link above\n",
    "checkpoint_file = 'checkpoints/deeplabv3_r50-d8_512x1024_40k_cityscapes_20200605_022449-acadc2f8.pth'"
   ]
  },
  {
   "cell_type": "code",
   "execution_count": null,
   "id": "282dbece",
   "metadata": {},
   "outputs": [],
   "source": [
    "# initialize model from config file and checkpoint file\n",
    "model = init_segmentor(config_file, checkpoint_file, device='cuda:0')\n",
    "\n",
    "# select an image\n",
    "img = 'demo/demo.png'  # any image, preferably of a cityscape\n",
    "\n",
    "# give the model that image and get a segmentation result\n",
    "result = inference_segmentor(model, img)\n",
    "\n",
    "# visualize the result\n",
    "show_result_pyplot(model, img, result, model.PALETTE)"
   ]
  },
  {
   "cell_type": "code",
   "execution_count": null,
   "id": "c2a544fb",
   "metadata": {},
   "outputs": [],
   "source": [
    "# Clean up the checkpoint file at the end\n",
    "if os.path.exists(checkpoint_file):\n",
    "    os.remove(checkpoint_file)\n",
    "    print(f\"Deleted checkpoint: {checkpoint_file}\")"
   ]
  }
 ],
 "metadata": {
  "kernelspec": {
   "display_name": "aisenv",
   "language": "python",
   "name": "python3"
  },
  "language_info": {
   "codemirror_mode": {
    "name": "ipython",
    "version": 3
   },
   "file_extension": ".py",
   "mimetype": "text/x-python",
   "name": "python",
   "nbconvert_exporter": "python",
   "pygments_lexer": "ipython3",
   "version": "3.10.18"
  }
 },
 "nbformat": 4,
 "nbformat_minor": 5
}

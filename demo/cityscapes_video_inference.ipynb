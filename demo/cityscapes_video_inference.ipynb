{
 "cells": [
  {
   "cell_type": "code",
   "execution_count": null,
   "id": "6529d3b5",
   "metadata": {},
   "outputs": [],
   "source": [
    "import subprocess\n",
    "\n",
    "import os\n",
    "os.chdir('/home/negreami/project/mmsegmentation')\n",
    "\n",
    "\n",
    "checkpoint_url = \"https://download.openmmlab.com/mmsegmentation/v0.5/deeplabv3/deeplabv3_r50-d8_512x1024_40k_cityscapes/deeplabv3_r50-d8_512x1024_40k_cityscapes_20200605_022449-acadc2f8.pth\"\n",
    "checkpoint_path = \"checkpoints/deeplabv3_r50-d8_512x1024_40k_cityscapes_20200605_022449-acadc2f8.pth\"\n",
    "if not os.path.exists(checkpoint_path):\n",
    "    os.makedirs(\"checkpoints\", exist_ok=True)\n",
    "    os.system(f\"wget {checkpoint_url} -P checkpoints\")\n",
    "\n",
    "input_video = \"demo/demo_videos/input/CARLA-rec.mp4\"\n",
    "output_video = \"demo/demo_videos/output/CARLA-rec-segmented.mp4\"\n",
    "config = \"configs/deeplabv3/deeplabv3_r50-d8_512x1024_40k_cityscapes.py\"\n",
    "checkpoint = \"checkpoints/deeplabv3_r50-d8_512x1024_40k_cityscapes_20200605_022449-acadc2f8.pth\"\n",
    "\n",
    "cmd = [\n",
    "    \"python\", \"demo/video_demo.py\",\n",
    "    input_video,\n",
    "    config,\n",
    "    checkpoint,\n",
    "    \"--output-file\", output_video,\n",
    "    \"--device\", \"cuda:0\"\n",
    "]\n",
    "\n",
    "subprocess.run(cmd)"
   ]
  }
 ],
 "metadata": {
  "language_info": {
   "name": "python"
  }
 },
 "nbformat": 4,
 "nbformat_minor": 5
}
